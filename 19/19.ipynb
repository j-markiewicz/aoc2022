{
 "cells": [
  {
   "cell_type": "code",
   "execution_count": null,
   "metadata": {},
   "outputs": [],
   "source": [
    "import re\n",
    "import random\n",
    "from collections import namedtuple\n",
    "\n",
    "BLUEPRINT_RE = r\"Blueprint (?P<num>\\d+): Each ore robot costs (?P<ore_ore>\\d+) ore\\. Each clay robot costs (?P<clay_ore>\\d+) ore\\. Each obsidian robot costs (?P<obs_ore>\\d+) ore and (?P<obs_clay>\\d+) clay\\. Each geode robot costs (?P<geo_ore>\\d+) ore and (?P<geo_obs>\\d+) obsidian\\.\"\n",
    "\n",
    "Blueprint = namedtuple(\n",
    "    \"Blueprint\",\n",
    "    \"num ore_ore clay_ore obs_ore obs_clay geo_ore geo_obs\"\n",
    ")\n",
    "\n",
    "blueprints = []\n",
    "\n",
    "with open(\"input.txt\") as f:\n",
    "    for line in f.readlines():\n",
    "        matches = re.match(BLUEPRINT_RE, line).groupdict()\n",
    "        blueprints.append(Blueprint(\n",
    "            int(matches[\"num\"], 10),\n",
    "            int(matches[\"ore_ore\"], 10),\n",
    "            int(matches[\"clay_ore\"], 10),\n",
    "            int(matches[\"obs_ore\"], 10),\n",
    "            int(matches[\"obs_clay\"], 10),\n",
    "            int(matches[\"geo_ore\"], 10),\n",
    "            int(matches[\"geo_obs\"], 10),\n",
    "        ))\n"
   ]
  },
  {
   "cell_type": "code",
   "execution_count": null,
   "metadata": {},
   "outputs": [],
   "source": [
    "def blueprint_score(bp):\n",
    "    robots = {\n",
    "        \"ore\": 1,\n",
    "        \"clay\": 0,\n",
    "        \"obs\": 0,\n",
    "        \"geo\": 0,\n",
    "    }\n",
    "\n",
    "    res = {\n",
    "        \"ore\": 0,\n",
    "        \"clay\": 0,\n",
    "        \"obs\": 0,\n",
    "        \"geo\": 0,\n",
    "    }\n",
    "\n",
    "    building = None\n",
    "\n",
    "    for _ in range(24):\n",
    "        res[\"ore\"] += robots[\"ore\"]\n",
    "        res[\"clay\"] += robots[\"clay\"]\n",
    "        res[\"obs\"] += robots[\"obs\"]\n",
    "        res[\"geo\"] += robots[\"geo\"]\n",
    "\n",
    "        if building is None:\n",
    "            # find best robot to build (todo)\n",
    "            if bp.geo_ore <= res[\"ore\"] and bp.geo_obs <= res[\"obs\"]:\n",
    "                res[\"ore\"] -= bp.geo_ore\n",
    "                res[\"obs\"] -= bp.geo_obs\n",
    "                building = \"geo\"\n",
    "            elif bp.obs_ore <= res[\"ore\"] and bp.obs_clay <= res[\"clay\"]:\n",
    "                res[\"ore\"] -= bp.obs_ore\n",
    "                res[\"clay\"] -= bp.obs_clay\n",
    "                building = \"obs\"\n",
    "            elif bp.clay_ore <= res[\"ore\"]:\n",
    "                res[\"ore\"] -= bp.clay_ore\n",
    "                building = \"clay\"\n",
    "            elif bp.ore_ore <= res[\"ore\"]:\n",
    "                res[\"ore\"] -= bp.ore_ore\n",
    "                building = \"ore\"\n",
    "        else:\n",
    "            robots[building] += 1\n",
    "            building = None\n",
    "\n",
    "    return res[\"geo\"]\n"
   ]
  },
  {
   "cell_type": "code",
   "execution_count": null,
   "metadata": {},
   "outputs": [],
   "source": [
    "for bp in blueprints:\n",
    "    score = blueprint_score(bp)\n",
    "    print(f\"[BP {bp.num}]: {score}\")\n",
    "\n",
    "print(f\"1: {...}\")\n"
   ]
  }
 ],
 "metadata": {
  "kernelspec": {
   "display_name": "Python 3",
   "language": "python",
   "name": "python3"
  },
  "language_info": {
   "codemirror_mode": {
    "name": "ipython",
    "version": 3
   },
   "file_extension": ".py",
   "mimetype": "text/x-python",
   "name": "python",
   "nbconvert_exporter": "python",
   "pygments_lexer": "ipython3",
   "version": "3.11.1"
  },
  "orig_nbformat": 4,
  "vscode": {
   "interpreter": {
    "hash": "925aaed10ee654c57f714744af52ecd884b1945313905815ae5b009cda705eb6"
   }
  }
 },
 "nbformat": 4,
 "nbformat_minor": 2
}
