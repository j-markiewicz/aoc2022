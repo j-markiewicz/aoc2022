{
 "cells": [
  {
   "cell_type": "code",
   "execution_count": 36,
   "metadata": {},
   "outputs": [],
   "source": [
    "input = []\n",
    "with open(\"./input.txt\") as f:\n",
    "    input = f.readlines()\n"
   ]
  },
  {
   "cell_type": "code",
   "execution_count": 37,
   "metadata": {},
   "outputs": [],
   "source": [
    "def do_tail_move(h_x, h_y, t_x, t_y):\n",
    "    if abs(h_x - t_x) <= 1 and abs(h_y - t_y) <= 1:\n",
    "        return t_x, t_y\n",
    "\n",
    "    if h_x > t_x and h_y > t_y:\n",
    "        return do_tail_move(h_x, h_y, t_x + 1, t_y + 1)\n",
    "    if h_x > t_x and h_y < t_y:\n",
    "        return do_tail_move(h_x, h_y, t_x + 1, t_y - 1)\n",
    "    if h_x < t_x and h_y > t_y:\n",
    "        return do_tail_move(h_x, h_y, t_x - 1, t_y + 1)\n",
    "    if h_x < t_x and h_y < t_y:\n",
    "        return do_tail_move(h_x, h_y, t_x - 1, t_y - 1)\n",
    "\n",
    "    if h_x > t_x:\n",
    "        return do_tail_move(h_x, h_y, t_x + 1, t_y)\n",
    "    if h_x < t_x:\n",
    "        return do_tail_move(h_x, h_y, t_x - 1, t_y)\n",
    "    if h_y > t_y:\n",
    "        return do_tail_move(h_x, h_y, t_x, t_y + 1)\n",
    "    if h_y < t_y:\n",
    "        return do_tail_move(h_x, h_y, t_x, t_y - 1)\n"
   ]
  },
  {
   "cell_type": "code",
   "execution_count": 38,
   "metadata": {},
   "outputs": [
    {
     "name": "stdout",
     "output_type": "stream",
     "text": [
      "1: 6357\n"
     ]
    }
   ],
   "source": [
    "visited = {(0, 0)}\n",
    "t_x = 0\n",
    "h_x = 0\n",
    "t_y = 0\n",
    "h_y = 0\n",
    "\n",
    "for line in input:\n",
    "    dir = line[0]\n",
    "    n = int(line[2:])\n",
    "\n",
    "    for _ in range(n):\n",
    "        if dir == \"U\":\n",
    "            h_y += 1\n",
    "        elif dir == \"R\":\n",
    "            h_x += 1\n",
    "        elif dir == \"D\":\n",
    "            h_y -= 1\n",
    "        elif dir == \"L\":\n",
    "            h_x -= 1\n",
    "\n",
    "        t_x, t_y = do_tail_move(h_x, h_y, t_x, t_y)\n",
    "\n",
    "        visited.add((t_x, t_y))\n",
    "\n",
    "print(f\"1: {len(visited)}\")\n"
   ]
  },
  {
   "cell_type": "code",
   "execution_count": 39,
   "metadata": {},
   "outputs": [
    {
     "name": "stdout",
     "output_type": "stream",
     "text": [
      "2: 2627\n"
     ]
    }
   ],
   "source": [
    "visited = {(0, 0)}\n",
    "x = [0] * 10\n",
    "y = [0] * 10\n",
    "\n",
    "for line in input:\n",
    "    dir = line[0]\n",
    "    n = int(line[2:])\n",
    "\n",
    "    for _ in range(n):\n",
    "        if dir == \"U\":\n",
    "            y[0] += 1\n",
    "        elif dir == \"R\":\n",
    "            x[0] += 1\n",
    "        elif dir == \"D\":\n",
    "            y[0] -= 1\n",
    "        elif dir == \"L\":\n",
    "            x[0] -= 1\n",
    "\n",
    "        for i in range(9):\n",
    "            x[i + 1], y[i + 1] = do_tail_move(x[i], y[i], x[i + 1], y[i + 1])\n",
    "\n",
    "        visited.add((x[9], y[9]))\n",
    "\n",
    "print(f\"2: {len(visited)}\")\n"
   ]
  }
 ],
 "metadata": {
  "kernelspec": {
   "display_name": "Python 3.9.6 64-bit",
   "language": "python",
   "name": "python3"
  },
  "language_info": {
   "codemirror_mode": {
    "name": "ipython",
    "version": 3
   },
   "file_extension": ".py",
   "mimetype": "text/x-python",
   "name": "python",
   "nbconvert_exporter": "python",
   "pygments_lexer": "ipython3",
   "version": "3.9.6"
  },
  "orig_nbformat": 4,
  "vscode": {
   "interpreter": {
    "hash": "ba095db9d01d28241af53af9eb2be45c772ec723663bd1f6960abc97b5a06db1"
   }
  }
 },
 "nbformat": 4,
 "nbformat_minor": 2
}
