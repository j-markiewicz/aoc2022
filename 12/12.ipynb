{
 "cells": [
  {
   "cell_type": "code",
   "execution_count": 183,
   "metadata": {},
   "outputs": [],
   "source": [
    "from string import ascii_lowercase\n",
    "\n",
    "input = []\n",
    "start = None\n",
    "end = None\n",
    "\n",
    "with open(\"./input.txt\") as f:\n",
    "    for i, line in enumerate(f.readlines()):\n",
    "        input.append([])\n",
    "\n",
    "        for j, char in enumerate(line):\n",
    "            if char == \"S\":\n",
    "                input[i].append(0)\n",
    "                start = (j, i)\n",
    "            elif char == \"E\":\n",
    "                input[i].append(25)\n",
    "                end = (j, i)\n",
    "            elif char in ascii_lowercase:\n",
    "                input[i].append(ascii_lowercase.index(char))\n"
   ]
  },
  {
   "cell_type": "code",
   "execution_count": 184,
   "metadata": {},
   "outputs": [],
   "source": [
    "import astar\n",
    "\n",
    "\n",
    "def neighbors(node):\n",
    "    x, y = node\n",
    "    neighbors = []\n",
    "    if x + 1 < len(input[y]) and input[y][x] + 1 >= input[y][x + 1]:\n",
    "        neighbors.append((x + 1, y))\n",
    "    if x - 1 >= 0 and input[y][x] + 1 >= input[y][x - 1]:\n",
    "        neighbors.append((x - 1, y))\n",
    "    if y + 1 < len(input) and input[y][x] + 1 >= input[y + 1][x]:\n",
    "        neighbors.append((x, y + 1))\n",
    "    if y - 1 >= 0 and input[y][x] + 1 >= input[y - 1][x]:\n",
    "        neighbors.append((x, y - 1))\n",
    "    return neighbors\n"
   ]
  },
  {
   "cell_type": "code",
   "execution_count": 185,
   "metadata": {},
   "outputs": [
    {
     "name": "stdout",
     "output_type": "stream",
     "text": [
      "1: 528\n"
     ]
    }
   ],
   "source": [
    "path = list(astar.find_path(start, end, neighbors, False,\n",
    "            lambda a, b: 100, lambda a, b: 1, lambda a, b: a == b))\n",
    "\n",
    "print(f\"1: {len(path) - 1}\")\n"
   ]
  },
  {
   "cell_type": "code",
   "execution_count": 186,
   "metadata": {},
   "outputs": [
    {
     "name": "stdout",
     "output_type": "stream",
     "text": [
      "2: 522\n"
     ]
    }
   ],
   "source": [
    "lengths = []\n",
    "\n",
    "for y in range(len(input)):\n",
    "    for x in range(len(input[y])):\n",
    "        if input[y][x] == 0:\n",
    "            path = astar.find_path((x, y), end, neighbors, False,\n",
    "                                   lambda a, b: 100, lambda a, b: 1, lambda a, b: a == b)\n",
    "            if path is not None:\n",
    "                lengths.append(len(list(path)) - 1)\n",
    "\n",
    "print(f\"2: {min(lengths)}\")\n"
   ]
  }
 ],
 "metadata": {
  "kernelspec": {
   "display_name": "Python 3.9.6 64-bit",
   "language": "python",
   "name": "python3"
  },
  "language_info": {
   "codemirror_mode": {
    "name": "ipython",
    "version": 3
   },
   "file_extension": ".py",
   "mimetype": "text/x-python",
   "name": "python",
   "nbconvert_exporter": "python",
   "pygments_lexer": "ipython3",
   "version": "3.9.6"
  },
  "orig_nbformat": 4,
  "vscode": {
   "interpreter": {
    "hash": "ba095db9d01d28241af53af9eb2be45c772ec723663bd1f6960abc97b5a06db1"
   }
  }
 },
 "nbformat": 4,
 "nbformat_minor": 2
}
