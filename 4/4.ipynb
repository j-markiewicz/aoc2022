{
 "cells": [
  {
   "cell_type": "code",
   "execution_count": 71,
   "metadata": {},
   "outputs": [],
   "source": [
    "input = []\n",
    "with open(\"./input.txt\") as f:\n",
    "    input = f.readlines()\n"
   ]
  },
  {
   "cell_type": "code",
   "execution_count": 72,
   "metadata": {},
   "outputs": [],
   "source": [
    "contained = 0\n",
    "\n",
    "for line in input:\n",
    "    a = line.split(\",\")[0]\n",
    "    b = line.split(\",\")[1]\n",
    "    a = int(a.split(\"-\")[0], 10), int(a.split(\"-\")[1], 10) + 1\n",
    "    b = int(b.split(\"-\")[0], 10), int(b.split(\"-\")[1], 10) + 1\n",
    "\n",
    "    if (a[0] >= b[0] and a[1] <= b[1]) or (b[0] >= a[0] and b[1] <= a[1]):\n",
    "        contained += 1\n"
   ]
  },
  {
   "cell_type": "code",
   "execution_count": 73,
   "metadata": {},
   "outputs": [],
   "source": [
    "\n",
    "overlapped = 0\n",
    "\n",
    "for line in input:\n",
    "    a = line.split(\",\")[0]\n",
    "    b = line.split(\",\")[1]\n",
    "    a = int(a.split(\"-\")[0], 10), int(a.split(\"-\")[1], 10) + 1\n",
    "    b = int(b.split(\"-\")[0], 10), int(b.split(\"-\")[1], 10) + 1\n",
    "\n",
    "    if not ((a[0] <= b[0] and a[1] <= b[0]) or (a[0] >= b[1] and a[1] >= b[1])):\n",
    "        overlapped += 1\n"
   ]
  },
  {
   "cell_type": "code",
   "execution_count": 74,
   "metadata": {},
   "outputs": [
    {
     "name": "stdout",
     "output_type": "stream",
     "text": [
      "1: 477\n",
      "2: 830\n"
     ]
    }
   ],
   "source": [
    "print(f\"1: {contained}\")\n",
    "print(f\"2: {overlapped}\")\n"
   ]
  }
 ],
 "metadata": {
  "kernelspec": {
   "display_name": "Python 3.9.6 64-bit",
   "language": "python",
   "name": "python3"
  },
  "language_info": {
   "codemirror_mode": {
    "name": "ipython",
    "version": 3
   },
   "file_extension": ".py",
   "mimetype": "text/x-python",
   "name": "python",
   "nbconvert_exporter": "python",
   "pygments_lexer": "ipython3",
   "version": "3.9.6"
  },
  "orig_nbformat": 4,
  "vscode": {
   "interpreter": {
    "hash": "ba095db9d01d28241af53af9eb2be45c772ec723663bd1f6960abc97b5a06db1"
   }
  }
 },
 "nbformat": 4,
 "nbformat_minor": 2
}
